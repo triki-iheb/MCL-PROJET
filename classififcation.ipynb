{
 "cells": [
  {
   "cell_type": "code",
   "execution_count": null,
   "metadata": {},
   "outputs": [],
   "source": [
    "# Créer une copie des données d'entrée d'apprentissage (X_train) en X_\n",
    "X_train_=X_train.copy()\n",
    "\n",
    "X_train_.fillna({'salaire':X_train_['salaire'].mean(),\n",
    "            'prime':X_train_['prime'].mean()}, inplace=True)\n",
    "\n",
    "from sklearn.preprocessing import OneHotEncoder\n",
    "ohe=OneHotEncoder()\n",
    "ohe.fit(X_train_[['etat civil']])\n",
    "etat_civil_sparse=ohe.transform(X_train_[['etat civil']])\n",
    "etat_civil=etat_civil_sparse.toarray()\n",
    "df_etat_civil=pd.DataFrame(etat_civil, \n",
    "             columns=ohe.categories_[0],\n",
    "             index=X_train_.index)\n",
    "X_train_=pd.concat([X_train_,df_etat_civil], axis=1)\n",
    "X_train_.drop('etat civil', axis=1, inplace=True, errors='ignore')\n",
    "\n",
    "X_train_['date recrutement']=pd.to_datetime(X_train_['date recrutement'])\n",
    "from datetime import datetime\n",
    "\n",
    "X_train_['anciennete']=X_train_['date recrutement'].apply(lambda date : datetime.now().year-date.year)\n",
    "X_train_.drop('date recrutement', axis=1, inplace=True, errors='ignore')\n",
    "#---------------\n",
    "X_train_"
   ]
  },
  {
   "cell_type": "code",
   "execution_count": null,
   "metadata": {},
   "outputs": [],
   "source": []
  },
  {
   "cell_type": "code",
   "execution_count": null,
   "metadata": {},
   "outputs": [],
   "source": []
  }
 ],
 "metadata": {
  "kernelspec": {
   "display_name": "Python 3",
   "language": "python",
   "name": "python3"
  },
  "language_info": {
   "name": "python",
   "version": "3.10.7"
  },
  "orig_nbformat": 4,
  "vscode": {
   "interpreter": {
    "hash": "26de051ba29f2982a8de78e945f0abaf191376122a1563185a90213a26c5da77"
   }
  }
 },
 "nbformat": 4,
 "nbformat_minor": 2
}
