{
 "cells": [
  {
   "cell_type": "code",
   "execution_count": 11,
   "metadata": {},
   "outputs": [
    {
     "data": {
      "text/plain": [
       "array([[255, 255, 255, ..., 255, 255, 255],\n",
       "       [160, 160, 160, ..., 207, 207, 207],\n",
       "       [255, 255, 255, ..., 255, 255, 255],\n",
       "       [240, 224, 227, ..., 134, 109, 103],\n",
       "       [255, 255, 255, ..., 255, 255, 255],\n",
       "       [255, 255, 255, ..., 255, 255, 255]], dtype=uint8)"
      ]
     },
     "execution_count": 11,
     "metadata": {},
     "output_type": "execute_result"
    }
   ],
   "source": [
    "import cv2\n",
    "import numpy as np\n",
    "import os\n",
    "\n",
    "\n",
    "# Définir le chemin du dossier contenant les images\n",
    "folder_path = 'C:/agence_voitures_occasion-version_poo/image'\n",
    "\n",
    "# Obtenir les chemins de toutes les images dans le dossier\n",
    "paths = [os.path.join(folder_path, f) for f in os.listdir(folder_path)]\n",
    "\n",
    "# Redimensionner toutes les images à une taille fixe (256x256)\n",
    "size = (256, 256)\n",
    "\n",
    "# Parcourir chaque image et la convertir en un vecteur\n",
    "vectors = []\n",
    "for path in paths:\n",
    "    # Lire l'image\n",
    "    img = cv2.imread(path)\n",
    "    # Redimensionner l'image\n",
    "    img = cv2.resize(img, size)\n",
    "    # Convertir l'image en niveaux de gris\n",
    "    gray = cv2.cvtColor(img, cv2.COLOR_BGR2GRAY)\n",
    "    # Convertir l'image en un vecteur\n",
    "    vector = np.reshape(gray, (1, -1))\n",
    "    # Ajouter le vecteur comme une ligne dans la matrice\n",
    "    vectors.append(vector)\n",
    "\n",
    "# Concaténer tous les vecteurs en une seule matrice\n",
    "matrix = np.concatenate(vectors, axis=0)\n",
    "# get the path of the query image\n",
    "query_image_path = input(\"Enter the path of the query image: \")\n",
    "\n",
    "# read the query image\n",
    "query_image = cv2.imread(query_image_path)\n",
    "\n",
    "# convert the query image to grayscale\n",
    "grayscale_query_image = cv2.cvtColor(query_image, cv2.COLOR_BGR2GRAY)\n",
    "\n",
    "# convert the query image to a vector\n",
    "query_image_vector = grayscale_query_image.reshape(-1)"
   ]
  },
  {
   "cell_type": "code",
   "execution_count": 2,
   "metadata": {},
   "outputs": [
    {
     "name": "stderr",
     "output_type": "stream",
     "text": [
      "C:\\Users\\IHEB TRIKI\\AppData\\Local\\Temp\\ipykernel_9464\\192589468.py:26: VisibleDeprecationWarning: Creating an ndarray from ragged nested sequences (which is a list-or-tuple of lists-or-tuples-or ndarrays with different lengths or shapes) is deprecated. If you meant to do this, you must specify 'dtype=object' when creating the ndarray.\n",
      "  image_vectors_array = np.array(image_vectors)\n"
     ]
    }
   ],
   "source": [
    "# import cv2\n",
    "# import numpy as np\n",
    "# import os\n",
    "\n",
    "# # define folder containing the car images\n",
    "# car_images_folder = 'C:/agence_voitures_occasion-version_poo/image'\n",
    "\n",
    "# # get paths of all images in the folder\n",
    "# image_paths = [os.path.join(car_images_folder, filename) for filename in os.listdir(car_images_folder)]\n",
    "\n",
    "# # initialize an empty list to hold the image vectors\n",
    "# image_vectors = []\n",
    "\n",
    "# # loop through each image path\n",
    "# for image_path in image_paths:\n",
    "#     # read the image\n",
    "#     image = cv2.imread(image_path)\n",
    "#     # convert the image to grayscale\n",
    "#     grayscale_image = cv2.cvtColor(image, cv2.COLOR_BGR2GRAY)\n",
    "#     # convert the image to a vector\n",
    "#     vector = grayscale_image.reshape(-1)\n",
    "#     # add the vector to the list\n",
    "#     image_vectors.append(vector)\n",
    "\n",
    "# # convert the list of vectors to a numpy array\n",
    "# image_vectors_array = np.array(image_vectors)\n"
   ]
  },
  {
   "cell_type": "code",
   "execution_count": 9,
   "metadata": {},
   "outputs": [],
   "source": [
    "import cv2\n",
    "import numpy as np\n",
    "\n",
    "\n",
    "\n"
   ]
  }
 ],
 "metadata": {
  "kernelspec": {
   "display_name": "Python 3",
   "language": "python",
   "name": "python3"
  },
  "language_info": {
   "codemirror_mode": {
    "name": "ipython",
    "version": 3
   },
   "file_extension": ".py",
   "mimetype": "text/x-python",
   "name": "python",
   "nbconvert_exporter": "python",
   "pygments_lexer": "ipython3",
   "version": "3.10.7"
  },
  "orig_nbformat": 4,
  "vscode": {
   "interpreter": {
    "hash": "26de051ba29f2982a8de78e945f0abaf191376122a1563185a90213a26c5da77"
   }
  }
 },
 "nbformat": 4,
 "nbformat_minor": 2
}
